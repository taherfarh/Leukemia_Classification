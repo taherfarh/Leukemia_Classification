{
 "cells": [
  {
   "cell_type": "code",
   "execution_count": 12,
   "id": "ee0d34b6-94e7-4ec9-89c4-466b66a6924d",
   "metadata": {},
   "outputs": [],
   "source": [
    "import os\n",
    "import numpy as np\n",
    "import pandas as pd\n",
    "import matplotlib.pyplot as plt\n",
    "import matplotlib.image as mpimg\n",
    "from sklearn.model_selection import train_test_split\n",
    "from sklearn import metrics\n",
    "from sklearn.metrics import confusion_matrix, classification_report\n",
    "\n",
    "import tensorflow as tf\n",
    "from tensorflow import keras\n",
    "from tensorflow.keras.models import Sequential\n",
    "from tensorflow.keras.optimizers import Adam, Adamax\n",
    "from tensorflow.keras.metrics import categorical_crossentropy\n",
    "from tensorflow.keras.preprocessing.image import ImageDataGenerator\n",
    "from tensorflow.keras.layers import Conv2D, MaxPooling2D, Flatten, Dense, Activation, Dropout, BatchNormalization\n",
    "from tensorflow.keras import regularizers\n",
    "\n",
    "# VGG16\n",
    "from keras.applications.vgg16 import VGG16\n",
    "\n",
    "# To show images\n",
    "from PIL import Image\n",
    "\n"
   ]
  },
  {
   "cell_type": "code",
   "execution_count": 13,
   "id": "a7f61deb-4f4c-4bf8-adf0-eab32a6c8d58",
   "metadata": {},
   "outputs": [
    {
     "name": "stdout",
     "output_type": "stream",
     "text": [
      "Directory not found: /kaggle/input/leukemia-classification/C-NMC_Leukemia/training_data\n",
      "No data to process.\n"
     ]
    }
   ],
   "source": [
    "import os\n",
    "import pandas as pd\n",
    "from sklearn.model_selection import train_test_split\n",
    "\n",
    "# Collect all data into one dataframe\n",
    "def create_df(dataset):\n",
    "    image_paths, labels = [], []\n",
    "\n",
    "    for dirpath, dirnames, filenames in os.walk(dataset):\n",
    "        for filename in filenames:\n",
    "            image = os.path.join(dirpath, filename)\n",
    "            image_paths.append(image)\n",
    "            \n",
    "            # Check if directory name ends with 'all' or 'hem'\n",
    "            if 'all' in dirpath:  # Adjust this condition if needed\n",
    "                labels.append('all')\n",
    "            else:\n",
    "                labels.append('hem')\n",
    "\n",
    "    df = pd.DataFrame({'Image Path': image_paths, 'Label': labels}) \n",
    "    return df\n",
    "\n",
    "# Define the training directory path\n",
    "train_dir = \"/kaggle/input/leukemia-classification/C-NMC_Leukemia/training_data\"\n",
    "\n",
    "# Check if directory exists and load the data\n",
    "if os.path.exists(train_dir):\n",
    "    print(\"Directory exists\")\n",
    "    # Create the DataFrame\n",
    "    df = create_df(train_dir)\n",
    "    \n",
    "    # Verify the DataFrame contains data\n",
    "    print(f\"Number of samples: {len(df)}\")\n",
    "    print(f\"Sample data:\\n{df.head()}\")\n",
    "else:\n",
    "    print(f\"Directory not found: {train_dir}\")\n",
    "\n",
    "# Proceed if the dataframe is not empty\n",
    "if not df.empty:\n",
    "    # Split the dataset into training, validation, and test sets\n",
    "    train_df, remaining_df = train_test_split(df, train_size=0.7, shuffle=True, random_state=31, stratify=df['Label'])\n",
    "    valid_df, test_df = train_test_split(remaining_df, train_size=0.5, shuffle=True, random_state=31, stratify=remaining_df['Label'])\n",
    "\n",
    "    # Output the number of samples in each dataset\n",
    "    print(\"Number of training samples: %d\" % len(train_df.index))\n",
    "    print(\"Number of test samples: %d\" % len(test_df.index))\n",
    "    print(\"Number of validation samples: %d\" % len(valid_df.index))\n",
    "else:\n",
    "    print(\"No data to process.\")\n"
   ]
  },
  {
   "cell_type": "code",
   "execution_count": null,
   "id": "e49b4fb1-2ef8-47bf-a82b-0d5f1d60dc8d",
   "metadata": {},
   "outputs": [],
   "source": []
  }
 ],
 "metadata": {
  "kernelspec": {
   "display_name": "Python 3 (ipykernel)",
   "language": "python",
   "name": "python3"
  },
  "language_info": {
   "codemirror_mode": {
    "name": "ipython",
    "version": 3
   },
   "file_extension": ".py",
   "mimetype": "text/x-python",
   "name": "python",
   "nbconvert_exporter": "python",
   "pygments_lexer": "ipython3",
   "version": "3.11.5"
  }
 },
 "nbformat": 4,
 "nbformat_minor": 5
}
